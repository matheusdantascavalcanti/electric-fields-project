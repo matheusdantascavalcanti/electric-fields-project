{
 "cells": [
  {
   "cell_type": "markdown",
   "id": "3aa1f931",
   "metadata": {},
   "source": [
    "### Problema Módulo 26-1 - Questão 1\n",
    "\n",
    "Analisando o problema, temos uma esfera metálica recebendo e perdendo correntes quase iguais, ou seja, o **processo de carregamento de um capacitor**, a própria esfera.\n",
    "\n",
    "- **Esfera como capacitor isolado**  \n",
    "  $$C = 4\\pi\\varepsilon_0\\,R \\quad\\Longrightarrow\\quad Q = C\\,V$$\n",
    "\n",
    "- **Corrente líquida de carregamento**  \n",
    "  $$I_{\\mathrm{net}} = I_{\\mathrm{in}} - I_{\\mathrm{out}} \\quad\\Longrightarrow\\quad \\frac{dQ}{dt} = I_{\\mathrm{net}}$$\n",
    "\n",
    "- **Tempo para elevar o potencial em $\\Delta V$**  \n",
    "  $$t = \\frac{Q}{I_{\\mathrm{net}}} = \\frac{C\\,\\Delta V}{I_{\\mathrm{net}}}$$\n",
    "\n",
    "\n",
    "\n",
    "> Devido à baixa capacitância da esfera, uma diferença de corrente de apenas  \n",
    "> microampères eleva seu potencial em 1000 V em 5.56 milissegundos.\n"
   ]
  },
  {
   "cell_type": "code",
   "execution_count": 9,
   "id": "149edd3d",
   "metadata": {},
   "outputs": [
    {
     "name": "stdout",
     "output_type": "stream",
     "text": [
      "Capacitância: 1.113e-11 F\n",
      "Corrente líquida: 2.000e-06 A\n",
      "Carga necessária: 1.113e-08 C\n",
      "Tempo requerido: 0.005563 s ≈ 5.563 ms\n"
     ]
    }
   ],
   "source": [
    "import numpy as np\n",
    "\n",
    "epsilon0 = 8.854e-12      # Perm. do vácuo (F/m)\n",
    "R = 0.10                  # Raio da esfera (m)\n",
    "I_in = 1.0000020          # Corrente entrando (A)\n",
    "I_out = 1.0000000         # Corrente saindo (A)\n",
    "deltaV = 1000             # Aumento de potencial desejado (V)\n",
    "\n",
    "# Passo 1: capacitância da esfera\n",
    "C = 4 * np.pi * epsilon0 * R\n",
    "\n",
    "# Passo 2: corrente líquida\n",
    "I_net = I_in - I_out\n",
    "\n",
    "# Passo 3: carga necessária\n",
    "Q = C * deltaV\n",
    "\n",
    "# Passo 4: tempo para acumular Q com I_net\n",
    "t = Q / I_net\n",
    "\n",
    "print(f\"Capacitância: {C:.3e} F\")\n",
    "print(f\"Corrente líquida: {I_net:.3e} A\")\n",
    "print(f\"Carga necessária: {Q:.3e} C\")\n",
    "print(f\"Tempo requerido: {t:.6f} s ≈ {t*1e3:.3f} ms\")\n"
   ]
  },
  {
   "cell_type": "markdown",
   "id": "5fc15971",
   "metadata": {},
   "source": [
    "### Problema Módulo 26-1 - Questão 14\n",
    "\n",
    "Analisando o problema, temos um choque elétrico no corpo do eletricista, modelado pela resistência elétrica do corpo e a corrente letal. Aplicamos a **Lei de Ohm** para determinar a tensão mínima.\n",
    "\n",
    "- **Dados do eletricista**  \n",
    "  $$R = 2000\\,\\Omega$$  \n",
    "  $$I_{\\mathrm{letal}} = 50\\,\\mathrm{mA} = 0{,}05\\,\\mathrm{A}$$\n",
    "\n",
    "- **Lei de Ohm**  \n",
    "  $$V = R\\,I$$\n",
    "\n",
    "- **Diferença de potencial mínima**  \n",
    "  $$V_{\\min} = R \\times I_{\\mathrm{letal}} = 2000 \\times 0{,}05 = 100\\,\\mathrm{V}$$\n",
    "\n",
    "> Uma diferença de potencial de **100 V** entre os fios consegue produzir uma corrente de 50 mA, podendo ser letal."
   ]
  },
  {
   "cell_type": "code",
   "execution_count": 10,
   "id": "1a02f71c",
   "metadata": {},
   "outputs": [
    {
     "name": "stdout",
     "output_type": "stream",
     "text": [
      "Resistência corporal: 2000 Ω\n",
      "Corrente letal: 0.050 A\n",
      "Diferença de potencial mínima: 100.0 V\n"
     ]
    }
   ],
   "source": [
    "import numpy as np\n",
    "\n",
    "# Passo 1: dados do eletricista\n",
    "R = 2000          # Resistência corporal (Ω)\n",
    "I_lethal = 50e-3  # Corrente letal (A)\n",
    "\n",
    "# Passo 2: cálculo da diferença de potencial mínima\n",
    "V_min = R * I_lethal\n",
    "\n",
    "print(f\"Resistência corporal: {R} Ω\")\n",
    "print(f\"Corrente letal: {I_lethal:.3f} A\")\n",
    "print(f\"Diferença de potencial mínima: {V_min:.1f} V\")"
   ]
  },
  {
   "cell_type": "markdown",
   "id": "d6a8ded8",
   "metadata": {},
   "source": [
    "### Problema Módulo 27-1 - Questão 5\n",
    "\n",
    "Analisando o problema, uma bateria fornece uma corrente constante e perde energia química conforme funciona. Usamos a relação entre força eletromotriz, corrente e tempo para obter essa energia.\n",
    "\n",
    "- **Dados**  \n",
    "  $$I = 5{,}0\\,\\mathrm{A}$$  \n",
    "  $$t = 6{,}0\\,\\min = 360\\,\\mathrm{s}$$  \n",
    "  $$\\mathcal{E} = 6{,}0\\,\\mathrm{V}$$\n",
    "\n",
    "- **Energia química fornecida pela bateria**  \n",
    "  $$\n",
    "    E = \\mathcal{E}\\,I\\,t\n",
    "  $$\n",
    "\n",
    "- **Cálculo**  \n",
    "  $$\n",
    "    E = (6{,}0\\,\\mathrm{V}) \\times (5{,}0\\,\\mathrm{A}) \\times (360\\,\\mathrm{s})\n",
    "      = 1{,}08\\times10^{4}\\,\\mathrm{J}\n",
    "  $$\n",
    "\n",
    "> A redução da energia química da bateria é de **$$1{,}08\\times10^{4}\\,\\mathrm{J}$$**"
   ]
  },
  {
   "cell_type": "code",
   "execution_count": 11,
   "id": "3df7c985",
   "metadata": {},
   "outputs": [
    {
     "name": "stdout",
     "output_type": "stream",
     "text": [
      "Corrente: 5.0 A\n",
      "Tempo: 360 s\n",
      "Força eletromotriz: 6.0 V\n",
      "Redução da energia química: 1.08e+04 J\n"
     ]
    }
   ],
   "source": [
    "import numpy as np\n",
    "\n",
    "# Passo 1: dados do problema\n",
    "I = 5.0            # Corrente (A)\n",
    "t = 6.0 * 60       # Tempo (s)\n",
    "emf = 6.0          # Força eletromotriz (V)\n",
    "\n",
    "# Passo 2: cálculo da energia\n",
    "E = emf * I * t    # Energia em joules\n",
    "\n",
    "print(f\"Corrente: {I:.1f} A\")\n",
    "print(f\"Tempo: {t:.0f} s\")\n",
    "print(f\"Força eletromotriz: {emf:.1f} V\")\n",
    "print(f\"Redução da energia química: {E:.2e} J\")"
   ]
  },
  {
   "cell_type": "markdown",
   "id": "bede207d",
   "metadata": {},
   "source": [
    "### Problema Módulo 27-2 - Questão 21\n",
    "\n",
    "Analisando o problema, temos quatro resistores idênticos em paralelo ligados a uma fonte de tensão. Usamos as fórmulas de resistência equivalente em paralelo e a Lei de Ohm para encontrar a corrente na fonte.\n",
    "\n",
    "- **Dados**  \n",
    "  $$R_i = 18{,}0\\,\\Omega \\quad (i = 1,2,3,4)$$  \n",
    "  $$V = 25{,}0\\,\\mathrm{V}$$\n",
    "\n",
    "- **Resistência equivalente**  \n",
    "  $$\n",
    "    \\frac{1}{R_{\\mathrm{eq}}}\n",
    "    = \\sum_{i=1}^{4}\\frac{1}{R_i}\n",
    "    = 4 \\times \\frac{1}{18{,}0\\,\\Omega}\n",
    "    = \\frac{4}{18{,}0}\\,\\Omega^{-1}\n",
    "    = \\frac{2}{9}\\,\\Omega^{-1}\n",
    "    \\;\\Longrightarrow\\;\n",
    "    R_{\\mathrm{eq}} = \\frac{9}{2}\\,\\Omega = 4{,}5\\,\\Omega\n",
    "  $$\n",
    "\n",
    "- **Corrente na fonte**  \n",
    "  $$\n",
    "    I\n",
    "    = \\frac{V}{R_{\\mathrm{eq}}}\n",
    "    = \\frac{25{,}0\\,\\mathrm{V}}{4{,}5\\,\\Omega}\n",
    "    \\approx 5{,}56\\,\\mathrm{A}\n",
    "  $$\n",
    "\n",
    "> A corrente fornecida pela fonte é de aproximadamente **5,56 A**."
   ]
  },
  {
   "cell_type": "code",
   "execution_count": 13,
   "id": "89bf1c40",
   "metadata": {},
   "outputs": [
    {
     "name": "stdout",
     "output_type": "stream",
     "text": [
      "Resistência equivalente: 4.50 Ω\n",
      "Corrente na fonte: 5.56 A\n"
     ]
    }
   ],
   "source": [
    "import numpy as np\n",
    "\n",
    "# Passo 1: dados do problema\n",
    "R = 18.0           # Resistência de cada resistor (Ω)\n",
    "n = 4              # Número de resistores em paralelo\n",
    "V = 25.0           # Tensão da fonte (V)\n",
    "\n",
    "# Passo 2: resistência equivalente\n",
    "R_eq = R / n       # Resistores idênticos em paralelo: Req = R/n\n",
    "\n",
    "# Passo 3: corrente na fonte\n",
    "I = V / R_eq       # Lei de Ohm: I = V / Req\n",
    "\n",
    "# Exibição dos resultados\n",
    "print(f\"Resistência equivalente: {R_eq:.2f} Ω\")\n",
    "print(f\"Corrente na fonte: {I:.2f} A\")\n"
   ]
  }
 ],
 "metadata": {
  "kernelspec": {
   "display_name": "electric-field",
   "language": "python",
   "name": "python3"
  },
  "language_info": {
   "codemirror_mode": {
    "name": "ipython",
    "version": 3
   },
   "file_extension": ".py",
   "mimetype": "text/x-python",
   "name": "python",
   "nbconvert_exporter": "python",
   "pygments_lexer": "ipython3",
   "version": "3.9.21"
  }
 },
 "nbformat": 4,
 "nbformat_minor": 5
}
