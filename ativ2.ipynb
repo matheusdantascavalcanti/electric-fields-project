{
 "cells": [
  {
   "cell_type": "markdown",
   "id": "e2ec4513",
   "metadata": {},
   "source": [
    "# Questão Proposta "
   ]
  },
  {
   "cell_type": "markdown",
   "id": "fc38b13c",
   "metadata": {},
   "source": [
    "A Fig. 28-12 ilustra o princípio de funcionamento do espectrômetro de massa, um instrumento usado para medir a massa de íons. Um íon de massa m (a ser medida) e carga q é produzido na fonte S e acelerado pelo campo elétrico associado a uma diferença de potencial V. O íon entra em uma câmara de separação na qual existe um campo magnético uniforme B perpendicular à sua velocidade. O campo faz com que o íon descreva uma trajetória semicircular antes de atingir um detector situado na superfície inferior da câmara. Suponha que B = 80.000 mT, V = 1000,0 V e que íons de carga q = +1,6022 × 10⁻¹⁹ C atinjam o detector em um ponto situado a uma distância x = 1,6254 m do ponto de entrada na câmara. Qual é a massa m dos íons em unidades de massa atômica? (Eq. 1-7: 1 u = 1,6605 × 10⁻²⁷ kg)."
   ]
  },
  {
   "cell_type": "code",
   "execution_count": 2,
   "id": "cba14fee",
   "metadata": {},
   "outputs": [
    {
     "name": "stdout",
     "output_type": "stream",
     "text": [
      "Raio da trajetória (r): 0.8127 m\n",
      "Massa do íon: 3.3863e-25 kg\n",
      "Massa do íon: 203.9334 u\n"
     ]
    }
   ],
   "source": [
    "# Cálculo da massa dos íons em um espectrômetro de massa\n",
    "import math\n",
    "\n",
    "# Dados fornecidos\n",
    "B_mT = 80.000    # campo magnético em mT\n",
    "B = B_mT * 1e-3  # converter para Tesla\n",
    "V = 1000.0       # potencial em volts\n",
    "q = 1.6022e-19   # carga do íon em C\n",
    "x = 1.6254       # distância do detector a partir da entrada (m)\n",
    "\n",
    "r = x / 2\n",
    "\n",
    "# Cálculo da massa em kg: m = q * B^2 * r^2 / (2 * V)\n",
    "m_kg = q * B**2 * r**2 / (2 * V)\n",
    "\n",
    "# Converter para unidades de massa atômica (u)\n",
    "u = 1.6605e-27  # kg\n",
    "m_u = m_kg / u\n",
    "\n",
    "print(f\"Raio da trajetória (r): {r:.4f} m\")\n",
    "print(f\"Massa do íon: {m_kg:.4e} kg\")\n",
    "print(f\"Massa do íon: {m_u:.4f} u\")\n"
   ]
  },
  {
   "cell_type": "markdown",
   "id": "ba5072e8",
   "metadata": {},
   "source": [
    "# Resolução Física do Problema do Espectrômetro de Massa\n",
    "\n",
    "## Descrição do Problema\n",
    "Um íon de massa $m$ e carga $q$ é acelerado por uma diferença de potencial $V$. Em seguida, ele entra numa região com campo magnético uniforme $\\mathbf{B}$ perpendicular à sua velocidade, descrevendo uma trajetória semicircular de raio $r$ até atingir um detector a uma distância $x=2r$ da entrada.\n",
    "\n",
    "---\n",
    "\n",
    "## Energia Cinética e Velocidade\n",
    "\n",
    "Ao ser acelerado por $V$, o trabalho da força elétrica vira energia cinética:\n",
    "$$\n",
    "q\\,V \\;=\\; \\tfrac12\\,m\\,v^2\n",
    "\\quad\\Longrightarrow\\quad\n",
    "v = \\sqrt{\\frac{2\\,q\\,V}{m}}.\n",
    "$$\n",
    "\n",
    "---\n",
    "\n",
    "## Força Centrípeta no Campo Magnético\n",
    "\n",
    "No campo $\\mathbf{B}\\perp\\mathbf{v}$, a força magnética fornece a força centrípeta:\n",
    "$$\n",
    "F_\\text{B} = q\\,v\\,B\n",
    "\\quad\\text{e}\\quad\n",
    "F_\\text{centrípeta} = \\frac{m\\,v^2}{r}.\n",
    "$$\n",
    "Igualando:\n",
    "$$\n",
    "q\\,v\\,B = \\frac{m\\,v^2}{r}\n",
    "\\quad\\Longrightarrow\\quad\n",
    "r = \\frac{m\\,v}{q\\,B}.\n",
    "$$\n",
    "Substituindo $v$ (isto é, $v^2=2qV/m$):\n",
    "$$\n",
    "r = \\frac{m}{qB}\\,\\sqrt{\\frac{2qV}{m}}\n",
    "\\;\\Longrightarrow\\;\n",
    "r^2 = \\frac{m\\,2qV}{(qB)^2}\n",
    "\\;\\Longrightarrow\\;\n",
    "m = \\frac{q\\,B^2\\,r^2}{2\\,V}.\n",
    "$$\n",
    "\n",
    "---\n",
    "\n",
    "## Cálculo Numérico\n",
    "\n",
    "1. **Dados**  \n",
    "   - $B = 80\\,000\\ \\mathrm{mT} = 0{,}080\\ \\mathrm T$  \n",
    "   - $V = 1000{,}0\\ \\mathrm V$  \n",
    "   - $q = 1{,}6022\\times10^{-19}\\ \\mathrm C$  \n",
    "   - $x = 1{,}6254\\ \\mathrm m\\implies r = \\tfrac{x}{2} = 0{,}8127\\ \\mathrm m$\n",
    "\n",
    "2. **Massa em kg**  \n",
    "   $$\n",
    "   m = \\frac{(1{,}6022\\times10^{-19})\\,(0{,}080)^2\\,(0{,}8127)^2}{2\\times1000}\n",
    "     = 3{,}3863\\times10^{-25}\\ \\mathrm{kg}.\n",
    "   $$\n",
    "\n",
    "3. **Conversão para unidades atômicas**  \n",
    "   $$\n",
    "   1\\ \\mathrm u = 1{,}6605\\times10^{-27}\\ \\mathrm{kg}\n",
    "   \\quad\\Longrightarrow\\quad\n",
    "   m = \\frac{3{,}3863\\times10^{-25}}{1{,}6605\\times10^{-27}}\n",
    "     = 203{,}93\\ \\mathrm u.\n",
    "   $$\n",
    "\n",
    "---\n",
    "\n",
    "## Resultado Final\n",
    "\n",
    "$$\n",
    "\\boxed{m \\approx 3{,}39\\times10^{-25}\\ \\mathrm{kg}\n",
    "\\quad\\Longleftrightarrow\\quad\n",
    "m \\approx 204\\ \\mathrm{u}.}\n",
    "$$\n"
   ]
  }
 ],
 "metadata": {
  "kernelspec": {
   "display_name": "electric-field",
   "language": "python",
   "name": "python3"
  },
  "language_info": {
   "codemirror_mode": {
    "name": "ipython",
    "version": 3
   },
   "file_extension": ".py",
   "mimetype": "text/x-python",
   "name": "python",
   "nbconvert_exporter": "python",
   "pygments_lexer": "ipython3",
   "version": "3.9.21"
  }
 },
 "nbformat": 4,
 "nbformat_minor": 5
}
