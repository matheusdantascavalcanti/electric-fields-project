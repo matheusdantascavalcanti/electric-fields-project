{
 "cells": [
  {
   "cell_type": "code",
   "execution_count": 84,
   "metadata": {},
   "outputs": [],
   "source": [
    "import numpy as np\n",
    "import matplotlib.pyplot as plt\n",
    "import ipywidgets as widgets\n",
    "from ipywidgets import interact\n",
    "\n",
    "k = 8.99e9  # Coulomb\n",
    "\n",
    "# Grid\n",
    "x_min, x_max, nx = -5, 5, 200\n",
    "y_min, y_max, ny = -5, 5, 200\n",
    "\n",
    "x_vals = np.linspace(x_min, x_max, nx)\n",
    "y_vals = np.linspace(y_min, y_max, ny)\n",
    "X, Y = np.meshgrid(x_vals, y_vals)"
   ]
  },
  {
   "cell_type": "code",
   "execution_count": 85,
   "metadata": {},
   "outputs": [],
   "source": [
    "def potencial_carga_unica(q, x0, y0, X, Y):\n",
    "    \"\"\"\n",
    "    Calcula o potencial devido a uma única carga pontual.\n",
    "    \"\"\"\n",
    "    Rx = X - x0\n",
    "    Ry = Y - y0\n",
    "    R = np.sqrt(Rx**2 + Ry**2)\n",
    "    R[R == 0] = 1e-20  # para evitar divisão por zero\n",
    "    return k * q / R\n",
    "\n",
    "\n",
    "def campo_carga_unica(q, x0, y0, X, Y):\n",
    "    \"\"\"\n",
    "    Calcula as componentes do campo elétrico de uma única carga pontual.\n",
    "    \"\"\"\n",
    "    Rx = X - x0\n",
    "    Ry = Y - y0\n",
    "    R = np.sqrt(Rx**2 + Ry**2)\n",
    "    R[R == 0] = 1e-20  # para evitar divisão por zero\n",
    "    Ex = k * q * Rx / R**3\n",
    "    Ey = k * q * Ry / R**3\n",
    "    return Ex, Ey\n",
    "\n",
    "\n",
    "def potencial_total(cargas, X, Y):\n",
    "    \"\"\"\n",
    "    Soma dos potenciais gerados por várias cargas.\n",
    "    \"\"\"\n",
    "    V_total = np.zeros_like(X)\n",
    "    for q, x0, y0 in cargas:\n",
    "        V_total += potencial_carga_unica(q, x0, y0, X, Y)\n",
    "    return V_total\n",
    "\n",
    "\n",
    "def campo_total(cargas, X, Y):\n",
    "    \"\"\"\n",
    "    Soma das componentes do campo elétrico geradas por várias cargas.\n",
    "    \"\"\"\n",
    "    Ex_total = np.zeros_like(X)\n",
    "    Ey_total = np.zeros_like(Y)\n",
    "    for q, x0, y0 in cargas:\n",
    "        Ex, Ey = campo_carga_unica(q, x0, y0, X, Y)\n",
    "        Ex_total += Ex\n",
    "        Ey_total += Ey\n",
    "    return Ex_total, Ey_total"
   ]
  },
  {
   "cell_type": "code",
   "execution_count": 86,
   "metadata": {},
   "outputs": [],
   "source": [
    "def plotar_campo_e_potencial(cargas, titulo):\n",
    "    \"\"\"\n",
    "    Plota as linhas de equipotencial e o campo elétrico para as cargas fornecidas.\n",
    "    \"\"\"\n",
    "    V = potencial_total(cargas, X, Y)\n",
    "    Ex, Ey = campo_total(cargas, X, Y)\n",
    "\n",
    "    plt.figure(figsize=(8, 6))\n",
    "    levels = np.linspace(np.min(V), np.max(V), 50)\n",
    "    cp = plt.contour(X, Y, V, levels=levels, cmap=\"RdBu\")\n",
    "    plt.clabel(cp, inline=True, fontsize=8, fmt=\"%.2e\")\n",
    "\n",
    "    plt.streamplot(X, Y, Ex, Ey, color=\"k\", density=1.0, linewidth=0.5)\n",
    "\n",
    "    # Plotando as cargas\n",
    "    for q, x0, y0 in cargas:\n",
    "        cor = \"red\" if q > 0 else \"blue\"\n",
    "        plt.plot(\n",
    "            x0,\n",
    "            y0,\n",
    "            marker=\"o\",\n",
    "            markersize=8,\n",
    "            color=cor,\n",
    "            label=f\"Carga = {q:.2f}C em ({x0:.2f}, {y0:.2f})\",\n",
    "        )\n",
    "\n",
    "    plt.ticklabel_format(style=\"sci\", axis=\"both\", scilimits=(0, 0))\n",
    "    plt.title(titulo)\n",
    "    plt.xlabel(\"x\")\n",
    "    plt.ylabel(\"y\")\n",
    "    plt.axis(\"equal\")\n",
    "    plt.legend(loc=\"lower right\")\n",
    "    plt.show()"
   ]
  },
  {
   "cell_type": "code",
   "execution_count": 91,
   "metadata": {},
   "outputs": [
    {
     "data": {
      "application/vnd.jupyter.widget-view+json": {
       "model_id": "f4aa9fc428ab4df7a62338042241033c",
       "version_major": 2,
       "version_minor": 0
      },
      "text/plain": [
       "interactive(children=(FloatText(value=1.0, description='q (C):'), FloatText(value=0.0, description='x (m):'), …"
      ]
     },
     "metadata": {},
     "output_type": "display_data"
    }
   ],
   "source": [
    "from ipywidgets import interact_manual\n",
    "\n",
    "@interact_manual(\n",
    "    q=widgets.FloatText(value=1.0, description=\"q (C):\"),\n",
    "    x=widgets.FloatText(value=0.0, description=\"x (m):\"),\n",
    "    y=widgets.FloatText(value=0.0, description=\"y (m):\"),\n",
    "    titulo=\"Carga Única: Campo Elétrico e Equipotenciais\",\n",
    ")\n",
    "def carga_unica(q, x, y, titulo):\n",
    "    cargas = [(q, x, y)]\n",
    "    plotar_campo_e_potencial(cargas, titulo)\n"
   ]
  },
  {
   "cell_type": "code",
   "execution_count": 36,
   "metadata": {},
   "outputs": [
    {
     "data": {
      "application/vnd.jupyter.widget-view+json": {
       "model_id": "04905387c92a43c6a619d54bce357eca",
       "version_major": 2,
       "version_minor": 0
      },
      "text/plain": [
       "interactive(children=(FloatSlider(value=1.0, description='q1', max=2.0, min=-2.0), FloatSlider(value=-1.0, des…"
      ]
     },
     "metadata": {},
     "output_type": "display_data"
    }
   ],
   "source": [
    "@interact(\n",
    "    q1=(-2.0, 2.0, 0.1),\n",
    "    x1=(-3.0, 3.0, 0.1),\n",
    "    y1=(-3.0, 3.0, 0.1),\n",
    "    q2=(-2.0, 2.0, 0.1),\n",
    "    x2=(-3.0, 3.0, 0.1),\n",
    "    y2=(-3.0, 3.0, 0.1),\n",
    "    titulo=\"Dipolo: Campo Elétrico e Equipotenciais\",\n",
    ")\n",
    "def dipolo(\n",
    "    q1=1.0,\n",
    "    x1=-1.0,\n",
    "    y1=0.0,\n",
    "    q2=-1.0,\n",
    "    x2=1.0,\n",
    "    y2=0.0,\n",
    "    titulo=\"Dipolo: Campo Elétrico e Equipotenciais\",\n",
    "):\n",
    "    cargas = [(q1, x1, y1), (q2, x2, y2)]\n",
    "    plotar_campo_e_potencial(cargas, titulo)"
   ]
  },
  {
   "cell_type": "code",
   "execution_count": 27,
   "metadata": {},
   "outputs": [
    {
     "data": {
      "application/vnd.jupyter.widget-view+json": {
       "model_id": "05e51c85141a46c9a4ea97199e78f865",
       "version_major": 2,
       "version_minor": 0
      },
      "text/plain": [
       "interactive(children=(FloatSlider(value=1.0, description='q1', max=2.0, min=-2.0), FloatSlider(value=-1.0, des…"
      ]
     },
     "metadata": {},
     "output_type": "display_data"
    }
   ],
   "source": [
    "@interact(\n",
    "    q1=(-2.0, 2.0, 0.1),\n",
    "    x1=(-3.0, 3.0, 0.1),\n",
    "    y1=(-3.0, 3.0, 0.1),\n",
    "    q2=(-2.0, 2.0, 0.1),\n",
    "    x2=(-3.0, 3.0, 0.1),\n",
    "    y2=(-3.0, 3.0, 0.1),\n",
    "    q3=(-2.0, 2.0, 0.1),\n",
    "    x3=(-3.0, 3.0, 0.1),\n",
    "    y3=(-3.0, 3.0, 0.1),\n",
    "    titulo=\"Três Cargas: Campo Elétrico e Equipotenciais\",\n",
    ")\n",
    "def tres_cargas(\n",
    "    q1=1.0,\n",
    "    x1=-1.0,\n",
    "    y1=0.0,\n",
    "    q2=-2.0,\n",
    "    x2=1.0,\n",
    "    y2=0.0,\n",
    "    q3=1.0,\n",
    "    x3=0.0,\n",
    "    y3=1.0,\n",
    "    titulo=\"Três Cargas: Campo Elétrico e Equipotenciais\",\n",
    "):\n",
    "    cargas = [(q1, x1, y1), (q2, x2, y2), (q3, x3, y3)]\n",
    "    plotar_campo_e_potencial(cargas, titulo)"
   ]
  }
 ],
 "metadata": {
  "kernelspec": {
   "display_name": "electric-field",
   "language": "python",
   "name": "python3"
  },
  "language_info": {
   "codemirror_mode": {
    "name": "ipython",
    "version": 3
   },
   "file_extension": ".py",
   "mimetype": "text/x-python",
   "name": "python",
   "nbconvert_exporter": "python",
   "pygments_lexer": "ipython3",
   "version": "3.9.21"
  }
 },
 "nbformat": 4,
 "nbformat_minor": 2
}
