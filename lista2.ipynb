{
 "cells": [
  {
   "cell_type": "markdown",
   "id": "700138fb",
   "metadata": {},
   "source": [
    "## Lista 8 - Campos Magnéticos\n",
    "### Questão 4"
   ]
  },
  {
   "cell_type": "code",
   "execution_count": 4,
   "id": "c204aa4c",
   "metadata": {},
   "outputs": [
    {
     "name": "stdout",
     "output_type": "stream",
     "text": [
      "(a) Força magnética F_B = 6.241e-18 N\n",
      "(b) Aceleração a = 9.456e+08 m/s²\n",
      "(c) A velocidade da partícula permanece constante em módulo, pois o campo magnético não realiza trabalho.\n"
     ]
    }
   ],
   "source": [
    "import math\n",
    "\n",
    "# Dados\n",
    "v = 550  # velocidade (m/s)\n",
    "B = 0.045  # campo magnético (T)\n",
    "q = 3.2e-19  # carga da partícula alfa (C)\n",
    "m = 6.6e-27  # massa da partícula alfa (kg)\n",
    "theta_deg = 52  # ângulo em graus\n",
    "\n",
    "# Converter o ângulo para radianos\n",
    "theta_rad = math.radians(theta_deg)\n",
    "\n",
    "# (a) Cálculo do módulo da força magnética\n",
    "F_B = q * v * B * math.sin(theta_rad)\n",
    "\n",
    "# (b) Cálculo da aceleração\n",
    "a = F_B / m\n",
    "\n",
    "print(f\"(a) Força magnética F_B = {F_B:.3e} N\")\n",
    "print(f\"(b) Aceleração a = {a:.3e} m/s²\")\n",
    "print(f\"(c) A velocidade da partícula permanece constante em módulo, pois o campo magnético não realiza trabalho.\")\n"
   ]
  },
  {
   "cell_type": "markdown",
   "id": "c1667e22",
   "metadata": {},
   "source": [
    "### Questão 5"
   ]
  },
  {
   "cell_type": "code",
   "execution_count": 8,
   "id": "b36648e7",
   "metadata": {},
   "outputs": [
    {
     "name": "stdout",
     "output_type": "stream",
     "text": [
      "Bx = -2.00 T\n"
     ]
    }
   ],
   "source": [
    "import sympy as sp\n",
    "\n",
    "# Definindo variável simbólica\n",
    "Bx = sp.symbols('Bx', real=True)\n",
    "\n",
    "# Dados \n",
    "vx = 2.0  # m/s\n",
    "vy = 4.0  # m/s\n",
    "q = -1.6e-19  # C (elétron: carga negativa)\n",
    "Fz = 6.4e-19  # N\n",
    "\n",
    "# Produto vetorial (v x B) na direção k:\n",
    "# Fz = q * (2 * 3Bx - 4 * Bx) = q * (6Bx - 4Bx) = q * (2Bx)\n",
    "# Logo:\n",
    "# Fz = q * (2Bx)\n",
    "\n",
    "# Montar a equação\n",
    "equation = Fz - q * (2 * Bx)\n",
    "\n",
    "# Resolver para Bx\n",
    "Bx_solution = sp.solve(equation, Bx)[0]\n",
    "\n",
    "print(f\"Bx = {Bx_solution:.3} T\")\n"
   ]
  },
  {
   "cell_type": "markdown",
   "id": "fde264f3",
   "metadata": {},
   "source": [
    "### Questão 6"
   ]
  },
  {
   "cell_type": "code",
   "execution_count": 15,
   "id": "36f7fbdb",
   "metadata": {},
   "outputs": [
    {
     "name": "stdout",
     "output_type": "stream",
     "text": [
      "vx = -3.50e+3 m/s\n",
      "vy = 7.00e+3 m/s\n"
     ]
    }
   ],
   "source": [
    "import sympy as sp\n",
    "\n",
    "# Definindo variáveis simbólicas\n",
    "vx, vy = sp.symbols('vx vy', real=True)\n",
    "\n",
    "# Dados \n",
    "# Campo magnético em Tesla (convertendo de mT para T)\n",
    "Bx = 10e-3  # T\n",
    "By = -20e-3  # T\n",
    "Bz = 30e-3  # T\n",
    "\n",
    "# Velocidade conhecida: vz = 2,0 km/s = 2000 m/s\n",
    "vz = 2000  # m/s\n",
    "\n",
    "# Carga do próton (positiva)\n",
    "q = 1.6e-19  # C\n",
    "\n",
    "# Força magnética conhecida\n",
    "Fx = 4.0e-17  # N\n",
    "Fy = 2.0e-17  # N\n",
    "\n",
    "# Produto vetorial v x B\n",
    "# Fx = q * (vy * Bz - vz * By)\n",
    "# Fy = q * (vz * Bx - vx * Bz)\n",
    "\n",
    "# Montando o sistema de equações\n",
    "eq1 = sp.Eq(q * (vy * Bz - vz * By), Fx)\n",
    "eq2 = sp.Eq(q * (vz * Bx - vx * Bz), Fy)\n",
    "\n",
    "# Resolvendo o sistema\n",
    "solution = sp.solve([eq1, eq2], (vx, vy))\n",
    "\n",
    "print(f\"vx = {solution[vx]:.2e} m/s\")\n",
    "print(f\"vy = {solution[vy]:.2e} m/s\")"
   ]
  },
  {
   "cell_type": "markdown",
   "id": "0f7673cd",
   "metadata": {},
   "source": [
    "### Questão 14"
   ]
  },
  {
   "cell_type": "code",
   "execution_count": null,
   "id": "d43a829c",
   "metadata": {},
   "outputs": [
    {
     "name": "stdout",
     "output_type": "stream",
     "text": [
      "(a) Velocidade escalar v = 3.824e-1 m/s\n"
     ]
    }
   ],
   "source": [
    "import sympy as sp\n",
    "\n",
    "# Definindo variáveis simbólicas\n",
    "v = sp.symbols('v', real=True)\n",
    "\n",
    "# Dados\n",
    "delta_V = 3.90e-6  # Diferença de potencial em volts\n",
    "B = 1.20e-3        # Campo magnético em Tesla\n",
    "largura = 0.850e-2 # Largura da fita em metros\n",
    "\n",
    "# Fórmula da diferença de potencial induzida: ΔV = B * v * largura\n",
    "# Montando a equação\n",
    "equation = sp.Eq(delta_V, B * v * largura)\n",
    "\n",
    "# Resolvendo para v\n",
    "v_solution = sp.solve(equation, v)[0]\n",
    "\n",
    "print(f\"(a) Velocidade escalar v = {v_solution:.3e} m/s\")\n"
   ]
  },
  {
   "cell_type": "markdown",
   "id": "5c91e180",
   "metadata": {},
   "source": [
    "### Questão 15"
   ]
  },
  {
   "cell_type": "code",
   "execution_count": 27,
   "id": "03fc6e46",
   "metadata": {},
   "outputs": [
    {
     "name": "stdout",
     "output_type": "stream",
     "text": [
      "(a) Campo elétrico E = 0.60 k̂ V/m\n",
      "(b) Diferença de potencial ΔV = 1.20 V\n"
     ]
    }
   ],
   "source": [
    "import sympy as sp\n",
    "\n",
    "# Dados \n",
    "v = 20.0  # Velocidade em m/s (direção x)\n",
    "B = 30.0e-3  # Campo magnético em Tesla (convertido de mT)\n",
    "dx = 5.00  # Dimensão x em metros\n",
    "dy = 3.00  # Dimensão y em metros\n",
    "dz = 2.00  # Dimensão z em metros\n",
    "\n",
    "# (a) Campo elétrico induzido\n",
    "# Regra do produto vetorial: E = v x B\n",
    "# Como v é na direção i e B na direção j:\n",
    "# E = (v x B) na direção k (positiva)\n",
    "# Módulo de E:\n",
    "E_magnitude = v * B  \n",
    "# Direção de E: vetor k positivo\n",
    "\n",
    "# (b) Diferença de potencial\n",
    "# ΔV = E * distância\n",
    "# A distância para calcular a diferença de potencial entre extremidades depende da orientação de E: nesse caso, ao longo do eixo z\n",
    "delta_V = E_magnitude * dz\n",
    "\n",
    "print(f\"(a) Campo elétrico E = {E_magnitude:.2f} k̂ V/m\")\n",
    "print(f\"(b) Diferença de potencial ΔV = {delta_V:.2f} V\")\n"
   ]
  },
  {
   "cell_type": "markdown",
   "id": "adc08297",
   "metadata": {},
   "source": [
    "### Questão 26"
   ]
  },
  {
   "cell_type": "code",
   "execution_count": null,
   "id": "212fb2bf",
   "metadata": {},
   "outputs": [
    {
     "name": "stdout",
     "output_type": "stream",
     "text": [
      "(a) Campo magnético para o próton: B_proton = 2.522e-1 T\n",
      "(a) Campo magnético para o elétron: B_electron = 1.376e-4 T\n",
      "(b) Novo tempo de percurso t2 = 9.192e-08 s\n"
     ]
    }
   ],
   "source": [
    "import sympy as sp\n",
    "from math import sqrt\n",
    "\n",
    "# Dados \n",
    "t1 = 130e-9  # Tempo inicial (s)\n",
    "# Constantes \n",
    "e = 1.6e-19  # Carga do elétron ou próton (C)\n",
    "m_p = 1.67e-27  # Massa do próton (kg)\n",
    "m_e = 9.11e-31  # Massa do elétron (kg)\n",
    "\n",
    "# Fórmulas:\n",
    "# Para uma trajetória semicircular:\n",
    "# Tempo de meia-volta t = (π * m) / (q * B)\n",
    "# Rearranjando para encontrar B:\n",
    "# B = (π * m) / (q * t)\n",
    "\n",
    "# (a) Cálculo de B para próton e para elétron\n",
    "B_proton = (sp.pi * m_p) / (e * t1)\n",
    "B_electron = (sp.pi * m_e) / (e * t1)\n",
    "\n",
    "# (b) Se a energia for duas vezes maior:\n",
    "# Energia cinética: Ec = (1/2) m v^2\n",
    "# Se Ec dobra, a velocidade aumenta por fator sqrt(2)\n",
    "# E o tempo de percurso é inversamente proporcional à velocidade\n",
    "# Logo, o novo tempo será t_novo = t / sqrt(2)\n",
    "\n",
    "t2 = t1 / sqrt(2)\n",
    "\n",
    "print(f\"(a) Campo magnético para o próton: B_proton = {B_proton.evalf():.3e} T\")\n",
    "print(f\"(a) Campo magnético para o elétron: B_electron = {B_electron.evalf():.3e} T\")\n",
    "print(f\"(b) Novo tempo de percurso t2 = {t2:.3e} s\")\n"
   ]
  },
  {
   "cell_type": "markdown",
   "id": "ae32e732",
   "metadata": {},
   "source": [
    "### Questão 28"
   ]
  },
  {
   "cell_type": "code",
   "execution_count": 39,
   "id": "6d0c230e",
   "metadata": {},
   "outputs": [
    {
     "name": "stdout",
     "output_type": "stream",
     "text": [
      "Energia cinética Ec = 2.088e-22 J\n"
     ]
    }
   ],
   "source": [
    "import sympy as sp\n",
    "\n",
    "# Definindo variáveis simbólicas\n",
    "F, r = sp.symbols('F r', real=True)\n",
    "\n",
    "# Fórmula da energia cinética: Ec = (1/2) * F * r\n",
    "Ec = 0.5 * F * r\n",
    "\n",
    "# Substituindo os valores conhecidos\n",
    "Ec_value = Ec.subs({F: 1.6e-17, r: 26.1e-6}) # Raio em metros e Força magnética em Newtons\n",
    "\n",
    "print(f\"Energia cinética Ec = {Ec_value.evalf():.3e} J\")\n"
   ]
  },
  {
   "cell_type": "markdown",
   "id": "15c0e94f",
   "metadata": {},
   "source": [
    "### Questão 29"
   ]
  },
  {
   "cell_type": "code",
   "execution_count": null,
   "id": "c36d5436",
   "metadata": {},
   "outputs": [
    {
     "name": "stdout",
     "output_type": "stream",
     "text": [
      "Velocidade Perpendicular = 4.17e+04 m/s\n",
      "Velocidade Paralela = 5.03e+04 m/s\n",
      "Velocidade total v = 6.53e+04 m/s\n"
     ]
    }
   ],
   "source": [
    "import math\n",
    "\n",
    "# Dados \n",
    "B = 0.300  # Campo magnético em Tesla\n",
    "p = 6.00e-6  # Passo da hélice em metros (convertido de micrômetros)\n",
    "F = 2.00e-15  # Força magnética em Newtons\n",
    "q = 1.6e-19  # Carga do elétron em Coulombs\n",
    "m = 9.11e-31  # Massa do elétron em kg\n",
    "\n",
    "# Fórmulas envolvidas:\n",
    "# A força magnética é: F = q * v_perpendicular * B\n",
    "# Então: v_perpendicular = F / (q * B)\n",
    "\n",
    "v_perpendicular = F / (q * B)\n",
    "\n",
    "# O movimento helicoidal implica que:\n",
    "# Passo p = v_parallel * período (T)\n",
    "# E período T = (2πm) / (qB)\n",
    "\n",
    "T = (2 * math.pi * m) / (q * B)\n",
    "v_parallel = p / T\n",
    "\n",
    "# A velocidade total é a composição de v_parallel e v_perpendicular\n",
    "v_total = math.sqrt(v_perpendicular**2 + v_parallel**2)\n",
    "\n",
    "print(f\"Velocidade Perpendicular = {v_perpendicular:.2e} m/s\")\n",
    "print(f\"Velocidade Paralela = {v_parallel:.2e} m/s\")\n",
    "print(f\"Velocidade total v = {v_total:.2e} m/s\")\n"
   ]
  },
  {
   "cell_type": "markdown",
   "id": "55333bc9",
   "metadata": {},
   "source": [
    "### Questão 45"
   ]
  },
  {
   "cell_type": "code",
   "execution_count": null,
   "id": "785cbc67",
   "metadata": {},
   "outputs": [
    {
     "name": "stdout",
     "output_type": "stream",
     "text": [
      "Força magnética sobre o fio:\n",
      "F = (0.0) î + (-2.5e-03) ĵ + (7.5e-04) k̂ N\n"
     ]
    }
   ],
   "source": [
    "import sympy as sp\n",
    "\n",
    "# Dados \n",
    "I = 0.500  # Corrente em amperes\n",
    "L_magnitude = 0.500  # Comprimento do fio em metros\n",
    "B_j = 3.00e-3  # Componente j de B em Tesla\n",
    "B_k = 10.0e-3  # Componente k de B em Tesla\n",
    "\n",
    "# O vetor comprimento L é na direção i:\n",
    "# L = (0.500) i (em metros)\n",
    "\n",
    "# Fórmula da força: F = I * (L x B)\n",
    "# Produto vetorial:\n",
    "# |i      j       k|\n",
    "# |0.5    0       0|\n",
    "# |0    3e-3  10e-3|\n",
    "\n",
    "# Calculando as componentes da força\n",
    "F_i = 0  # i: (0*10e-3 - 0*3e-3)\n",
    "F_j = -(0.5 * 10.0e-3)  # j: -(0.5*10e-3 - 0*0)\n",
    "F_k = (0.5 * 3.0e-3)  # k: (0.5*3e-3 - 0*0)\n",
    "\n",
    "# Multiplicando pela corrente\n",
    "F_i_total = I * F_i\n",
    "F_j_total = I * F_j\n",
    "F_k_total = I * F_k\n",
    "\n",
    "print(f\"Força magnética sobre o fio:\")\n",
    "print(f\"F = ({F_i_total}) î + ({F_j_total:.1e}) ĵ + ({F_k_total:.1e}) k̂ N\")\n"
   ]
  },
  {
   "cell_type": "markdown",
   "id": "d1a78f68",
   "metadata": {},
   "source": [
    "### Questão 46"
   ]
  },
  {
   "cell_type": "code",
   "execution_count": 57,
   "id": "562c1acf",
   "metadata": {},
   "outputs": [
    {
     "name": "stdout",
     "output_type": "stream",
     "text": [
      "Força magnética F = 1.32e-05 N\n",
      "Aceleração a = 5.46e-01 m/s²\n",
      "Velocidade escalar v = 3.34e-02 m/s\n"
     ]
    }
   ],
   "source": [
    "import math\n",
    "\n",
    "# Dados \n",
    "m = 24.1e-6  # Massa em kg \n",
    "d = 2.56e-2  # Distância entre trilhos em metros \n",
    "B = 56.3e-3  # Campo magnético em Tesla \n",
    "i = 9.13e-3  # Corrente elétrica em amperes\n",
    "t = 61.1e-3  # Tempo em segundos \n",
    "\n",
    "# Fórmulas envolvidas:\n",
    "# Força magnética sobre o fio: F = i * d * B\n",
    "# Aceleração: a = F / m\n",
    "# Velocidade final (movimento uniformemente acelerado): v = a * t\n",
    "\n",
    "# Cálculo da força\n",
    "F = i * d * B\n",
    "\n",
    "# Cálculo da aceleração\n",
    "a = F / m\n",
    "\n",
    "# Cálculo da velocidade\n",
    "v = a * t\n",
    "\n",
    "print(f\"Força magnética F = {F:.2e} N\")\n",
    "print(f\"Aceleração a = {a:.2e} m/s²\")\n",
    "print(f\"Velocidade escalar v = {v:.2e} m/s\")\n"
   ]
  },
  {
   "cell_type": "markdown",
   "id": "1101c121",
   "metadata": {},
   "source": [
    "### Questão 57"
   ]
  },
  {
   "cell_type": "code",
   "execution_count": 62,
   "id": "be70abf4",
   "metadata": {},
   "outputs": [
    {
     "name": "stdout",
     "output_type": "stream",
     "text": [
      "(a) Corrente I = 1.27e+01 A\n",
      "(b) Torque máximo t_max = 8.05e-02 N·m\n"
     ]
    }
   ],
   "source": [
    "import math\n",
    "\n",
    "# Dados \n",
    "N = 160  # número de espiras\n",
    "r = 1.90e-2  # raio em metros \n",
    "m_magnetic = 2.30  # momento dipolar magnético em A*m²\n",
    "B = 35.0e-3  # campo magnético em Tesla \n",
    "\n",
    "# (a) Cálculo da corrente\n",
    "# O momento dipolar magnético é dado por:\n",
    "# m = N * I * A\n",
    "# onde A = área de uma espira circular = pi * r²\n",
    "A = math.pi * r**2\n",
    "\n",
    "# Isolando a corrente:\n",
    "I = m_magnetic / (N * A)\n",
    "\n",
    "# (b) Cálculo do torque máximo\n",
    "# Torque máximo: t_max = m * B\n",
    "torque_max = m_magnetic * B\n",
    "\n",
    "print(f\"(a) Corrente I = {I:.2e} A\")\n",
    "print(f\"(b) Torque máximo t_max = {torque_max:.2e} N·m\")\n"
   ]
  },
  {
   "cell_type": "markdown",
   "id": "a6797428",
   "metadata": {},
   "source": [
    "### Questão 49"
   ]
  },
  {
   "cell_type": "code",
   "execution_count": 68,
   "id": "b8f54cdd",
   "metadata": {},
   "outputs": [
    {
     "name": "stdout",
     "output_type": "stream",
     "text": [
      "Área A = 5.0e-03 m²\n",
      "Momento dipolar magnético m = 1.0e-02 A·m²\n",
      "Torque (módulo) t = 2.5e-03 N·m\n",
      "Vetor torque: t = (2.5e-03) î N·m\n"
     ]
    }
   ],
   "source": [
    "import math\n",
    "\n",
    "# Dados \n",
    "N = 20  # número de espiras\n",
    "h = 10e-2  # altura em metros \n",
    "w = 5e-2   # largura em metros \n",
    "I = 0.10  # corrente em amperes\n",
    "B = 0.50  # campo magnético em Tesla\n",
    "theta_deg = 30  # ângulo em graus\n",
    "\n",
    "# Área da espira (área retangular)\n",
    "A = h * w\n",
    "\n",
    "# Momento dipolar magnético (vetor perpendicular ao plano da espira)\n",
    "m_magnitude = N * I * A  # módulo de m\n",
    "\n",
    "# Cálculo do torque\n",
    "# Torque: t = m × B\n",
    "# Módulo do torque: t = m * B * sin(theta)\n",
    "theta_rad = math.radians(theta_deg)\n",
    "torque_magnitude = m_magnitude * B * math.sin(theta_rad)\n",
    "\n",
    "# Em vetores unitários:\n",
    "# Se a bobina está no plano xy, e considerando a dobradiça no lado vertical (ao longo de y),\n",
    "# o vetor torque será na direção x (positivo ou negativo dependendo da orientação).\n",
    "# Aqui, como o ângulo é entre m e B no plano yz, o torque é no eixo x positivo.\n",
    "\n",
    "print(f\"Área A = {A:.1e} m²\")\n",
    "print(f\"Momento dipolar magnético m = {m_magnitude:.1e} A·m²\")\n",
    "print(f\"Torque (módulo) t = {torque_magnitude:.1e} N·m\")\n",
    "print(f\"Vetor torque: t = ({torque_magnitude:.1e}) î N·m\")\n"
   ]
  },
  {
   "cell_type": "markdown",
   "id": "b09248c9",
   "metadata": {},
   "source": [
    "### Questão 50"
   ]
  },
  {
   "cell_type": "code",
   "execution_count": 73,
   "id": "584f1251",
   "metadata": {},
   "outputs": [
    {
     "name": "stdout",
     "output_type": "stream",
     "text": [
      "Período T = 1.52e-16 s\n",
      "Corrente equivalente I = 1.05e-03 A\n",
      "Área da espira A = 8.79e-21 m²\n",
      "Momento dipolar magnético m = 9.27e-24 A·m²\n",
      "Torque máximo = 6.58e-26 N·m\n"
     ]
    }
   ],
   "source": [
    "import math\n",
    "\n",
    "# Dados \n",
    "r = 5.29e-11  # raio em metros\n",
    "v = 2.19e6    # velocidade em m/s\n",
    "q = 1.6e-19   # carga do elétron em Coulombs\n",
    "B = 7.10e-3   # campo magnético em Tesla \n",
    "\n",
    "# (1) Calcular o período do movimento circular\n",
    "# Período: T = 2πr / v\n",
    "T = (2 * math.pi * r) / v\n",
    "\n",
    "# (2) Corrente equivalente: I = q / T\n",
    "I = q / T\n",
    "\n",
    "# (3) Área da espira: A = π r²\n",
    "A = math.pi * r**2\n",
    "\n",
    "# (4) Momento dipolar magnético: m = I * A\n",
    "m_magnetic = I * A\n",
    "\n",
    "# (5) Torque máximo: t_max = m * B\n",
    "torque_max = m_magnetic * B\n",
    "\n",
    "print(f\"Período T = {T:.2e} s\")\n",
    "print(f\"Corrente equivalente I = {I:.2e} A\")\n",
    "print(f\"Área da espira A = {A:.2e} m²\")\n",
    "print(f\"Momento dipolar magnético m = {m_magnetic:.2e} A·m²\")\n",
    "print(f\"Torque máximo = {torque_max:.2e} N·m\")\n"
   ]
  },
  {
   "cell_type": "markdown",
   "id": "8f39fa9e",
   "metadata": {},
   "source": [
    "## Lista 8 - Campos Magnéticos\n",
    "### Questão 7"
   ]
  },
  {
   "cell_type": "code",
   "execution_count": 76,
   "id": "247a8290",
   "metadata": {},
   "outputs": [
    {
     "name": "stdout",
     "output_type": "stream",
     "text": [
      "(a) Módulo do campo magnético: B = 1.03e-07 T\n",
      "(b) Sentido: para fora do papel (positivo em ẑ)\n"
     ]
    }
   ],
   "source": [
    "import math\n",
    "\n",
    "# Constante de permeabilidade magnética no vácuo\n",
    "mu_0 = 4 * math.pi * 1e-7  # T·m/A\n",
    "\n",
    "# Dados \n",
    "i = 0.411  # Corrente em A\n",
    "theta_deg = 74.0  # Ângulo em graus\n",
    "theta_rad = math.radians(theta_deg)  # Converter para radianos\n",
    "\n",
    "a = 13.5e-2  # Raio do arco maior em metros\n",
    "b = 10.7e-2  # Raio do arco menor em metros\n",
    "\n",
    "# Campo magnético no centro de um arco de raio R, ângulo θ:\n",
    "# B = (μ₀ * i * θ) / (4πR)\n",
    "# Como são dois arcos:\n",
    "# B_total = B_b - B_a\n",
    "\n",
    "B_b = (mu_0 * i * theta_rad) / (4 * math.pi * b)  # parte do arco de raio menor\n",
    "B_a = (mu_0 * i * theta_rad) / (4 * math.pi * a)  # parte do arco de raio maior\n",
    "\n",
    "B_total = B_b - B_a  # vetor resultante aponta para fora do papel\n",
    "\n",
    "print(f\"(a) Módulo do campo magnético: B = {B_total:.2e} T\")\n",
    "print(f\"(b) Sentido: para fora do papel (positivo em ẑ)\")\n"
   ]
  },
  {
   "cell_type": "markdown",
   "id": "33728d3f",
   "metadata": {},
   "source": [
    "### Questão 8"
   ]
  },
  {
   "cell_type": "code",
   "execution_count": 79,
   "id": "b5ef6c60",
   "metadata": {},
   "outputs": [
    {
     "name": "stdout",
     "output_type": "stream",
     "text": [
      "Módulo do campo magnético: B = 1.67e-06 T\n",
      "Direção do campo magnético: para fora do papel (z positivo)\n"
     ]
    }
   ],
   "source": [
    "import math\n",
    "\n",
    "# Constante de permeabilidade magnética no vácuo\n",
    "mu_0 = 4 * math.pi * 1e-7  # T·m/A\n",
    "\n",
    "# Dados \n",
    "i = 0.281  # Corrente em A\n",
    "theta_deg = 180.0  # Ângulo em graus\n",
    "theta_rad = math.radians(theta_deg)  # Converter para radianos\n",
    "\n",
    "R2 = 7.80e-2  # Raio externo em metros \n",
    "R1 = 3.15e-2  # Raio interno em metros \n",
    "\n",
    "# Campo magnético no centro de um arco de raio R, ângulo θ:\n",
    "# B = (μ₀ * i * θ) / (4πR)\n",
    "# Contribuição total: arco interno soma para fora do papel, externo subtrai\n",
    "\n",
    "B_R1 = (mu_0 * i * theta_rad) / (4 * math.pi * R1)  # interno (entra)\n",
    "B_R2 = (mu_0 * i * theta_rad) / (4 * math.pi * R2)  # externo (sai)\n",
    "\n",
    "B_total = B_R1 - B_R2  # direção do vetor resultante: para fora se positivo\n",
    "\n",
    "B_magnitude = abs(B_total)\n",
    "B_direction = \"para fora do papel (z positivo)\" if B_total > 0 else \"para dentro do papel (z negativo)\"\n",
    "\n",
    "print(f\"Módulo do campo magnético: B = {B_magnitude:.2e} T\")\n",
    "print(f\"Direção do campo magnético: {B_direction}\")\n"
   ]
  },
  {
   "cell_type": "markdown",
   "id": "c2a8ab8f",
   "metadata": {},
   "source": [
    "### Questão 16"
   ]
  },
  {
   "cell_type": "code",
   "execution_count": 81,
   "id": "cbecdfd4",
   "metadata": {},
   "outputs": [
    {
     "name": "stdout",
     "output_type": "stream",
     "text": [
      "O ângulo θ necessário para atingir o campo magnético alvo é:\n",
      "θ = 116.61°\n"
     ]
    }
   ],
   "source": [
    "import math\n",
    "\n",
    "# Constante de permeabilidade magnética no vácuo\n",
    "mu_0 = 4 * math.pi * 1e-7  # T·m/A\n",
    "\n",
    "# Dados \n",
    "r1 = 1.50e-2  # raio da espira 1 em metros\n",
    "i1 = 4.00e-3  # corrente da espira 1 em amperes\n",
    "\n",
    "r2 = 2.50e-2  # raio da espira 2 em metros\n",
    "i2 = 6.00e-3  # corrente da espira 2 em amperes\n",
    "\n",
    "B_total_target = 100e-9  # campo magnético alvo em Tesla\n",
    "\n",
    "# Campo magnético no centro de uma espira: B = (μ₀ * i * R²) / (2 * (R²)^(3/2)) = (μ₀ * i) / (2R)\n",
    "# Cada espira contribui com B = (μ₀ * i) / (2R)\n",
    "\n",
    "B1 = (mu_0 * i1) / (2 * r1)\n",
    "B2_max = (mu_0 * i2) / (2 * r2)\n",
    "\n",
    "# Quando a espira 2 gira em torno do diâmetro, sua contribuição em B é multiplicada por cos(θ)\n",
    "# B_total_target = B1 + B2_max * cos(θ)\n",
    "\n",
    "# Isolar cos(θ)\n",
    "cos_theta = (B_total_target - B1) / B2_max\n",
    "\n",
    "# Calcular o ângulo\n",
    "theta_rad = math.acos(cos_theta)\n",
    "theta_deg = math.degrees(theta_rad)\n",
    "\n",
    "print(f\"O ângulo θ necessário para atingir o campo magnético alvo é:\")\n",
    "print(f\"θ = {theta_deg:.2f}°\")\n"
   ]
  },
  {
   "cell_type": "markdown",
   "id": "53a1367b",
   "metadata": {},
   "source": [
    "### Questão 29"
   ]
  },
  {
   "cell_type": "code",
   "execution_count": 85,
   "id": "8137259b",
   "metadata": {},
   "outputs": [
    {
     "name": "stdout",
     "output_type": "stream",
     "text": [
      "O campo magnético total no centro do quadrado é Bz_total = 8e-05 T (para dentro do papel).\n"
     ]
    }
   ],
   "source": [
    "import math\n",
    "\n",
    "# Constante de permeabilidade magnética do vácuo\n",
    "mu_0 = 4 * math.pi * 1e-7  # T·m/A\n",
    "\n",
    "# Dados \n",
    "I = 20  # corrente em amperes\n",
    "a = 0.20  # lado do quadrado em metros\n",
    "\n",
    "# Distância do centro a cada fio (metade da diagonal)\n",
    "r = (a / math.sqrt(2))\n",
    "\n",
    "# Campo magnético devido a um fio retilíneo no ponto a distância r:\n",
    "# B = (μ₀ * I) / (2πr)\n",
    "\n",
    "B_mag = (mu_0 * I) / (2 * math.pi * r)\n",
    "\n",
    "# Agora somamos os vetores B de cada fio no centro\n",
    "# Sentido da corrente:\n",
    "# Fios 1 e 4: para fora do papel (+z)\n",
    "# Fios 2 e 3: para dentro do papel (-z)\n",
    "\n",
    "# Usando a regra da mão direita, cada vetor B forma ângulo de 45° com os eixos\n",
    "\n",
    "# Campo total no centro é soma vetorial de quatro campos com magnitude B_mag e direção:\n",
    "# Fio 1: (-x, +y)\n",
    "# Fio 2: (+x, +y)\n",
    "# Fio 3: (+x, -y)\n",
    "# Fio 4: (-x, -y)\n",
    "\n",
    "# Fios 1 e 4 (corrente saindo): campo circula CCW → vetor B entra no centro com direção (45°)\n",
    "# Fios 2 e 3 (corrente entrando): campo circula CW → vetor B também entra no centro com direção (45°)\n",
    "\n",
    "# Todos contribuem para dentro do papel (z), mas os vetores no plano (x, y) se cancelam\n",
    "\n",
    "# Somando as magnitudes das componentes em z:\n",
    "Bz_total = 4 * B_mag * math.cos(math.radians(45))  # cada um contribui com cos(45°) da magnitude na direção z\n",
    "\n",
    "print(f\"O campo magnético total no centro do quadrado é Bz_total = {Bz_total} T (para dentro do papel).\")\n"
   ]
  },
  {
   "cell_type": "markdown",
   "id": "3eb40527",
   "metadata": {},
   "source": [
    "### Questão 33"
   ]
  },
  {
   "cell_type": "code",
   "execution_count": 86,
   "id": "643c1a8b",
   "metadata": {},
   "outputs": [
    {
     "name": "stdout",
     "output_type": "stream",
     "text": [
      "Módulo do campo magnético: B = 1.09e-12 T\n",
      "Direção do campo magnético: -î\n"
     ]
    }
   ],
   "source": [
    "import math\n",
    "\n",
    "# Constante de permeabilidade magnética\n",
    "mu_0 = 4 * math.pi * 1e-7  # T·m/A\n",
    "\n",
    "# Dados \n",
    "w = 4.91e-2  # largura da fita em metros\n",
    "d = 2.16e-2  # distância do ponto até a borda da fita em metros\n",
    "i = 4.61e-6  # corrente por unidade de comprimento em A/m (corrente distribuída)\n",
    "\n",
    "# Fórmula para o campo magnético no plano da fita a uma distância d de uma borda:\n",
    "# B = (μ₀ * i / (2π)) * ln[(w + d)/d]\n",
    "B = (mu_0 * i) / (2 * math.pi) * math.log((w + d) / d)\n",
    "\n",
    "# Direção: pela regra da mão direita, o campo aponta no sentido -x (vetor -î)\n",
    "B_value = B\n",
    "direction = \"-î\"\n",
    "\n",
    "print(f\"Módulo do campo magnético: B = {B_value:.2e} T\")\n",
    "print(f\"Direção do campo magnético: {direction}\")\n"
   ]
  },
  {
   "cell_type": "markdown",
   "id": "5939cfc9",
   "metadata": {},
   "source": [
    "### Questão 40"
   ]
  },
  {
   "cell_type": "code",
   "execution_count": null,
   "id": "d529e02e",
   "metadata": {},
   "outputs": [
    {
     "name": "stdout",
     "output_type": "stream",
     "text": [
      "Componente da força total em x: Fx_total = 7.94e-04 N\n",
      "Componente da força total em y: Fy_total = 7.94e-04 N\n"
     ]
    }
   ],
   "source": [
    "import math\n",
    "\n",
    "# Constante de permeabilidade magnética\n",
    "mu_0 = 4 * math.pi * 1e-7  # T·m/A\n",
    "\n",
    "# Dados\n",
    "a = 8.50e-2  # lado do quadrado em metros\n",
    "I = 15.0  # corrente em amperes\n",
    "\n",
    "# Distâncias entre os fios:\n",
    "# Fio 2 está a distância 'a' (horizontal)\n",
    "# Fio 4 está a distância 'a' (vertical)\n",
    "# Fio 3 está na diagonal => distância = sqrt(2) * a\n",
    "\n",
    "r_2 = a\n",
    "r_4 = a\n",
    "r_3 = math.sqrt(2) * a\n",
    "\n",
    "# Força entre dois fios paralelos por unidade de comprimento:\n",
    "# F = (μ₀ * I₁ * I₂) / (2π * r)\n",
    "\n",
    "F_12 = (mu_0 * I * I) / (2 * math.pi * r_2)\n",
    "F_14 = (mu_0 * I * I) / (2 * math.pi * r_4)\n",
    "F_13 = (mu_0 * I * I) / (2 * math.pi * r_3)\n",
    "\n",
    "# As direções da força seguem regra da mão direita e repulsão (correntes no mesmo sentido = forças de repulsão)\n",
    "# Somar vetorialmente:\n",
    "\n",
    "# Forças F_12 e F_14 são perpendiculares (x e y)\n",
    "# F_13 atua ao longo da diagonal com componentes iguais em x e y (45°)\n",
    "\n",
    "F_13_component = F_13 / math.sqrt(2)\n",
    "\n",
    "# Soma vetorial das componentes em x e y\n",
    "Fx_total = F_12 + F_13_component\n",
    "Fy_total = F_14 + F_13_component\n",
    "\n",
    "print(f\"Componente da força total em x: Fx_total = {Fx_total:.2e} N\")\n",
    "print(f\"Componente da força total em y: Fy_total = {Fy_total:.2e} N\")\n"
   ]
  },
  {
   "cell_type": "markdown",
   "id": "28f946aa",
   "metadata": {},
   "source": [
    "### Questão 41"
   ]
  },
  {
   "cell_type": "code",
   "execution_count": 89,
   "id": "1d5e7361",
   "metadata": {},
   "outputs": [
    {
     "name": "stdout",
     "output_type": "stream",
     "text": [
      "A força total na espira é F_total = -3.15e-03 N\n"
     ]
    }
   ],
   "source": [
    "import math\n",
    "\n",
    "# Constante de permeabilidade magnética\n",
    "mu_0 = 4 * math.pi * 1e-7  # T·m/A\n",
    "\n",
    "# Dados \n",
    "i1 = 30.0  # corrente no fio longo (A)\n",
    "i2 = 20.0  # corrente na espira (A)\n",
    "a = 1.00e-2  # distância do lado superior da espira ao fio longo (m)\n",
    "b = 8.00e-2  # distância do lado inferior da espira ao fio longo (m)\n",
    "L = 30.0e-2  # comprimento dos lados paralelos ao fio longo (m)\n",
    "\n",
    "# Força por unidade de comprimento entre dois fios paralelos:\n",
    "# F/L = (μ₀ * i1 * i2) / (2π * r)\n",
    "\n",
    "# Força no lado superior da espira (distância a do fio longo)\n",
    "F_sup = (mu_0 * i1 * i2) / (2 * math.pi * a)\n",
    "\n",
    "# Força no lado inferior da espira (distância b do fio longo)\n",
    "F_inf = (mu_0 * i1 * i2) / (2 * math.pi * b)\n",
    "\n",
    "# As forças atuam em sentidos opostos (pela regra da mão direita)\n",
    "# A força total na espira será a diferença entre as forças multiplicadas pelo comprimento L\n",
    "\n",
    "F_total = L * (F_inf - F_sup)  # sentido será para longe do fio se F_inf > F_sup\n",
    "\n",
    "print(f\"A força total na espira é F_total = {F_total:.2e} N\")\n"
   ]
  },
  {
   "cell_type": "markdown",
   "id": "8373cb2a",
   "metadata": {},
   "source": [
    "### Questão 47"
   ]
  },
  {
   "cell_type": "code",
   "execution_count": 90,
   "id": "732a7422",
   "metadata": {},
   "outputs": [
    {
     "name": "stdout",
     "output_type": "stream",
     "text": [
      "(a) B(0) = 0.00e+00 T\n",
      "(b) B(a/2) = 1.01e-07 T\n",
      "(c) B(a) = 4.03e-07 T\n"
     ]
    }
   ],
   "source": [
    "import math\n",
    "\n",
    "# Constantes\n",
    "mu_0 = 4 * math.pi * 1e-7  # permeabilidade do vácuo em T·m/A\n",
    "\n",
    "# Dados \n",
    "a = 3.1e-3  # raio do fio em metros\n",
    "J0 = 310  # A/m²\n",
    "\n",
    "# Função para calcular B(r) dentro de um fio com densidade de corrente J = J0 * r / a\n",
    "def B_interior(r):\n",
    "    return (mu_0 * J0 * r**2) / (3 * a)\n",
    "\n",
    "# (a) B(0)\n",
    "B0 = B_interior(0)\n",
    "\n",
    "# (b) B(a/2)\n",
    "B_half = B_interior(a / 2)\n",
    "\n",
    "# (c) B(a)\n",
    "B_surface = B_interior(a)\n",
    "\n",
    "print(f\"(a) B(0) = {B0:.2e} T\")\n",
    "print(f\"(b) B(a/2) = {B_half:.2e} T\")\n",
    "print(f\"(c) B(a) = {B_surface:.2e} T\")\n"
   ]
  },
  {
   "cell_type": "markdown",
   "id": "d17088e6",
   "metadata": {},
   "source": [
    "### Questão 48"
   ]
  },
  {
   "cell_type": "code",
   "execution_count": 92,
   "id": "99aaf19a",
   "metadata": {},
   "outputs": [
    {
     "name": "stdout",
     "output_type": "stream",
     "text": [
      "A corrente necessária é = -2.40e-02 A\n"
     ]
    }
   ],
   "source": [
    "import math\n",
    "\n",
    "# Constante de permeabilidade do vácuo\n",
    "mu_0 = 4 * math.pi * 1e-7  # T·m/A\n",
    "\n",
    "# Dados\n",
    "R = 2.6e-2  # raio do cano em metros (2,6 cm)\n",
    "i_cano = 8.00e-3  # corrente no cano (uniformemente distribuída), em A\n",
    "d = 3 * R  # distância do fio até o ponto P (3R)\n",
    "\n",
    "# Campo magnético no eixo de um cilindro com corrente uniformemente distribuída:\n",
    "B_cano = (mu_0 * i_cano) / (2 * math.pi * R)\n",
    "\n",
    "# Para que o campo no ponto P tenha mesmo módulo e sentido oposto,\n",
    "# o campo gerado pelo fio deve ter módulo igual e sentido contrário\n",
    "# Campo gerado por fio longo no ponto a uma distância r:\n",
    "# B_fio = (mu_0 * i_fio) / (2 * pi * r)\n",
    "\n",
    "# Queremos que:\n",
    "# B_fio = -B_cano\n",
    "# Então:\n",
    "\n",
    "i_fio = - B_cano * 2 * math.pi * d / mu_0\n",
    "\n",
    "print(f\"A corrente necessária é = {i_fio:.2e} A\")\n"
   ]
  },
  {
   "cell_type": "markdown",
   "id": "bcf63441",
   "metadata": {},
   "source": [
    "### Questão 52"
   ]
  },
  {
   "cell_type": "code",
   "execution_count": 95,
   "id": "b3123eee",
   "metadata": {},
   "outputs": [
    {
     "name": "stdout",
     "output_type": "stream",
     "text": [
      "O comprimento total do fio do solenoide é: 107.97 m\n"
     ]
    }
   ],
   "source": [
    "import math\n",
    "\n",
    "# Constantes\n",
    "mu_0 = 4 * math.pi * 1e-7  # T·m/A\n",
    "\n",
    "# Dados\n",
    "L_solenoide = 1.30  # comprimento do solenoide (m)\n",
    "d_solenoide = 2.60e-2  # diâmetro do solenoide (m)\n",
    "r_solenoide = d_solenoide / 2\n",
    "I = 18.0  # corrente (A)\n",
    "B = 23.0e-3  # campo magnético (T)\n",
    "\n",
    "# Relação do campo magnético no interior de um solenoide ideal:\n",
    "# B = mu_0 * n * I, onde n = N / L\n",
    "# N = número de espiras => n = B / (mu_0 * I)\n",
    "n = B / (mu_0 * I)  # densidade linear de espiras (espiras/m)\n",
    "N = n * L_solenoide  # número total de espiras\n",
    "\n",
    "# O comprimento total do fio é o número de voltas vezes o comprimento de cada volta (circunferência):\n",
    "C = 2 * math.pi * r_solenoide\n",
    "comprimento_fio = N * C\n",
    "\n",
    "print(f\"O comprimento total do fio do solenoide é: {comprimento_fio:.2f} m\")\n"
   ]
  },
  {
   "cell_type": "markdown",
   "id": "12d3168e",
   "metadata": {},
   "source": [
    "### Questão 53"
   ]
  },
  {
   "cell_type": "code",
   "execution_count": 98,
   "id": "786d7d31",
   "metadata": {},
   "outputs": [
    {
     "name": "stdout",
     "output_type": "stream",
     "text": [
      "i = 2.719e-01 A\n"
     ]
    }
   ],
   "source": [
    "import math\n",
    "\n",
    "# Constantes\n",
    "mu_0 = 4 * math.pi * 1e-7  # T·m/A\n",
    "q = 1.6e-19  # carga do elétron (C)\n",
    "m = 9.11e-31  # massa do elétron (kg)\n",
    "c = 3e8  # velocidade da luz (m/s)\n",
    "\n",
    "# Dados \n",
    "n_espiras_cm = 100  # espiras por cm\n",
    "n = n_espiras_cm * 100  # espiras por metro\n",
    "r = 2.30e-2  # raio da trajetória (m)\n",
    "v = 0.046 * c  # velocidade do elétron (m/s)\n",
    "\n",
    "# Para que o elétron execute uma trajetória circular, a força centrípeta deve ser igual à força magnética:\n",
    "# mv^2 / r = qvB => B = mv / (qr)\n",
    "\n",
    "# O campo magnético dentro de um solenoide longo é dado por B = mu_0 * n * i\n",
    "# Igualando as duas expressões para B:\n",
    "# mu_0 * n * i = mv / (qr) => i = mv / (mu_0 * n * q * r)\n",
    "\n",
    "i = (m * v) / (mu_0 * n * q * r)\n",
    "\n",
    "print(f\"i = {i:.3e} A\")\n"
   ]
  },
  {
   "cell_type": "markdown",
   "id": "9f1e7e68",
   "metadata": {},
   "source": [
    "### Questão 62"
   ]
  },
  {
   "cell_type": "code",
   "execution_count": 100,
   "id": "bb7ad35a",
   "metadata": {},
   "outputs": [
    {
     "name": "stdout",
     "output_type": "stream",
     "text": [
      "Campo magnético total (B_total): -1.20e-07 T\n",
      "Momento magnético (m_magnitude): 4.85e-04 A·m²\n"
     ]
    }
   ],
   "source": [
    "import math\n",
    "\n",
    "# Constantes\n",
    "mu_0 = 4 * math.pi * 1e-7  # T·m/A\n",
    "\n",
    "# Dados\n",
    "i = 56.2e-3  # Corrente em A\n",
    "a = 5.72e-2  # Raio menor em m\n",
    "b = 9.36e-2  # Raio maior em m\n",
    "\n",
    "# Campo magnético no centro de uma semicircunferência: B = (mu_0 * i) / (4 * R)\n",
    "# O campo resultante é: B_total = B_b - B_a\n",
    "B_a = (mu_0 * i) / (4 * a)\n",
    "B_b = (mu_0 * i) / (4 * b)\n",
    "B_total = B_b - B_a\n",
    "\n",
    "# Momento magnético: m = i * A, onde A é a área vetorial (área da semicircunferência maior - menor)\n",
    "A = 0.5 * math.pi * (b**2 - a**2)\n",
    "m_magnitude = i * A\n",
    "\n",
    "print(f\"Campo magnético total (B_total): {B_total:.2e} T\")\n",
    "print(f\"Momento magnético (m_magnitude): {m_magnitude:.2e} A·m²\")\n"
   ]
  }
 ],
 "metadata": {
  "kernelspec": {
   "display_name": "electric-field",
   "language": "python",
   "name": "python3"
  },
  "language_info": {
   "codemirror_mode": {
    "name": "ipython",
    "version": 3
   },
   "file_extension": ".py",
   "mimetype": "text/x-python",
   "name": "python",
   "nbconvert_exporter": "python",
   "pygments_lexer": "ipython3",
   "version": "3.9.21"
  }
 },
 "nbformat": 4,
 "nbformat_minor": 5
}
