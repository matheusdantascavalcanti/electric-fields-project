{
 "cells": [
  {
   "cell_type": "markdown",
   "id": "5c61eb0b",
   "metadata": {},
   "source": [
    "# Experimento de Thomson \n",
    "\n",
    "Em 1897, o físico britânico **Joseph John Thomson** realizou um experimento fundamental que resultou na **descoberta do elétron**, a primeira partícula subatômica identificada na história.\n",
    "\n",
    "## Como o experimento foi realizado?\n",
    "\n",
    "Thomson utilizou um dispositivo chamado **tubo de raios catódicos**, que consiste em um tubo de vidro parcialmente evacuado com dois eletrodos: um **cátodo** (negativo) e um **ânodo** (positivo). Quando uma **alta voltagem** era aplicada, surgia um feixe luminoso que se projetava do cátodo ao ânodo — o chamado **raio catódico**.\n",
    "\n",
    "Esses \"raios\" podiam ser desviados:\n",
    "- Por um **campo elétrico**, aplicando placas carregadas positivamente e negativamente nas laterais do tubo.\n",
    "- Por um **campo magnético**, gerado externamente com ímãs ou bobinas.\n",
    "\n",
    "Thomson observou que o raio era desviado em direção à placa positiva, o que indicava que era composto por **partículas carregadas negativamente** — hoje conhecidas como **elétrons**.\n",
    "\n",
    "## O que Thomson queria provar?\n",
    "\n",
    "Na época, acreditava-se que o átomo era indivisível. Thomson, ao estudar os raios catódicos, queria descobrir sua **natureza física**:\n",
    "- Seriam partículas ou ondas?\n",
    "- Teriam massa?\n",
    "- Qual sua relação entre carga e massa?\n",
    "\n",
    "## O que ele descobriu?\n",
    "\n",
    "Ao equilibrar **campo elétrico e campo magnético**, Thomson foi capaz de medir a **velocidade das partículas**:\n",
    "\n",
    "$$\n",
    "v = \\frac{E}{B}\n",
    "$$\n",
    "\n",
    "Em seguida, mediu a deflexão sob apenas um campo (por exemplo, o elétrico) e, com base na cinemática, calculou a razão carga/massa:\n",
    "\n",
    "$$\n",
    "\\frac{e}{m} = \\frac{2 \\cdot d \\cdot E}{v^2}\n",
    "$$\n",
    "\n",
    "onde:\n",
    "- $ d $ é o desvio observado,\n",
    "- $ E $ é o campo elétrico,\n",
    "- $ v $ é a velocidade (obtida do equilíbrio entre campos).\n",
    "\n",
    "Ele encontrou um valor de $ \\frac{e}{m} \\approx 1.76 \\times 10^{11} \\, \\mathrm{C/kg} $, muito maior que o de qualquer íon conhecido — indicando que as partículas eram **muito mais leves que átomos**, inaugurando assim a **física de partículas**.\n",
    "\n",
    "## Conclusão\n",
    "\n",
    "Thomson concluiu que os **átomos continham partículas negativas**, quebrando o modelo atômico indivisível. Isso levou ao **modelo do pudim de passas**, onde os elétrons estariam imersos numa massa positiva — uma hipótese que mais tarde seria superada por Rutherford.\n",
    "\n",
    "Este experimento marcou o nascimento da **física moderna** e da **teoria atômica baseada em partículas**.\n"
   ]
  },
  {
   "cell_type": "markdown",
   "id": "df97a673",
   "metadata": {},
   "source": [
    "## Força de Lorentz\n",
    "\n",
    "A força total que age sobre uma carga $q$ em presença de campos elétrico $\\vec E$ e magnético $\\vec B$ é dada pela **força de Lorentz**:\n",
    "\n",
    "$$\n",
    "\\boxed{\\vec F = q\\,\\bigl(\\vec E \\;+\\;\\vec v \\times \\vec B\\bigr)}\n",
    "$$\n",
    "\n",
    "- O termo $q\\,\\vec E$ é a **força elétrica**, responsável pela aceleração linear em campo elétrico.  \n",
    "- O termo $q\\,\\vec v\\times\\vec B$ é a **força magnética**, sempre perpendicular a $\\vec v$, que gera movimento circular.\n",
    "\n",
    "A partir desta fórmula você deriva separadamente:\n",
    "1. A **trajetória parabólica** quando $\\vec B=0$.  \n",
    "2. A **trajetória circular** quando $\\vec E=0$.  \n",
    "3. A combinação de ambos via integração numérica.\n",
    "\n"
   ]
  },
  {
   "cell_type": "code",
   "execution_count": null,
   "id": "634f6015",
   "metadata": {},
   "outputs": [
    {
     "data": {
      "application/vnd.jupyter.widget-view+json": {
       "model_id": "2279fea679aa43398d76c5ba354241fd",
       "version_major": 2,
       "version_minor": 0
      },
      "text/plain": [
       "interactive(children=(FloatSlider(value=10000.0, description='Campo E (N/C)', max=50000.0, min=1000.0, step=10…"
      ]
     },
     "metadata": {},
     "output_type": "display_data"
    },
    {
     "data": {
      "text/plain": [
       "<function __main__.simular_campo_eletrico(E=10000.0)>"
      ]
     },
     "execution_count": 1,
     "metadata": {},
     "output_type": "execute_result"
    }
   ],
   "source": [
    "# Elétron em um Campo Elétrico\n",
    "import numpy as np\n",
    "import matplotlib.pyplot as plt\n",
    "from ipywidgets import interact, FloatSlider\n",
    "\n",
    "# Constantes\n",
    "carga = -1.6e-19  # carga do elétron (C)\n",
    "massa = 9.11e-31  # massa do elétron (kg)\n",
    "velocidade_inicial = 2e6  # velocidade horizontal inicial (m/s)\n",
    "tempo = np.linspace(0, 1e-7, 1000)  # vetor de tempo (s)\n",
    "\n",
    "\n",
    "# Função para simular a trajetória\n",
    "def simular_campo_eletrico(E=1e4):\n",
    "    aceleracao = carga * E / massa  # aceleração vertical (m/s²)\n",
    "    x = velocidade_inicial * tempo  # movimento uniforme em x\n",
    "    y = 0.5 * aceleracao * tempo**2  # movimento uniformemente acelerado em y\n",
    "\n",
    "    # Gráfico\n",
    "    plt.figure(figsize=(10, 4))\n",
    "    plt.plot(\n",
    "        x, y * 1e3, label=f\"E = {E:.1e} N/C\"\n",
    "    )  # y em mm para facilitar visualização\n",
    "    plt.xlabel(\"Distância (m)\")\n",
    "    plt.ylabel(\"Desvio vertical (mm)\")\n",
    "    plt.title(\"Trajetória do Elétron em um Campo Elétrico Uniforme\")\n",
    "    plt.grid(True)\n",
    "    plt.legend()\n",
    "    plt.show()\n",
    "\n",
    "\n",
    "# Controle interativo para ajustar o campo elétrico\n",
    "interact(\n",
    "    simular_campo_eletrico,\n",
    "    E=FloatSlider(value=1e4, min=1e3, max=5e4, step=1e3, description=\"Campo E (N/C)\"),\n",
    ")"
   ]
  },
  {
   "cell_type": "markdown",
   "id": "ec594f76",
   "metadata": {},
   "source": [
    "# Interpretação do Gráfico\n",
    "\n",
    "O gráfico acima mostra a **trajetória de um elétron** ao atravessar uma região com um **campo elétrico uniforme** aplicado verticalmente. \n",
    "\n",
    "Inicialmente, o elétron possui uma **velocidade constante na direção horizontal** (eixo x). Ao entrar na região com campo elétrico, ele sofre uma **aceleração vertical** devido à força elétrica exercida sobre sua carga negativa.\n",
    "\n",
    "Como resultado, a trajetória do elétron deixa de ser retilínea e passa a ser **parabólica**, semelhante ao movimento de um projétil sob ação da gravidade. A curvatura da trajetória depende da **intensidade do campo elétrico**: quanto maior o campo, maior a deflexão vertical.\n",
    "\n",
    "Essa deflexão foi a base para que Thomson concluísse que os raios catódicos eram formados por partículas negativas com massa — os **elétrons**.\n"
   ]
  },
  {
   "cell_type": "markdown",
   "id": "a58812f5",
   "metadata": {},
   "source": [
    "# Trajetória em um Campo Magnético\n",
    "\n",
    "Quando um elétron se move com velocidade $ \\vec{v} $ perpendicular a um campo magnético $ \\vec{B} $, ele sofre uma **força magnética** dada por:\n",
    "\n",
    "$$\n",
    "\\vec{F}_B = q \\cdot \\vec{v} \\times \\vec{B}\n",
    "$$\n",
    "\n",
    "Essa força é **sempre perpendicular à velocidade**, o que gera uma **trajetória circular**. O raio dessa trajetória é dado por:\n",
    "\n",
    "$$\n",
    "r = \\frac{mv}{qB}\n",
    "$$\n",
    "\n",
    "Como a força centrípeta é fornecida pela força magnética:\n",
    "\n",
    "$$\n",
    "qvB = \\frac{mv^2}{r}\n",
    "$$\n",
    "\n",
    "Assim, podemos prever o raio e a curvatura da trajetória de um elétron apenas com base na intensidade do campo magnético e da velocidade inicial.\n",
    "\n",
    "No gráfico acima, mostramos esse movimento curvo, com o desvio aumentando conforme o campo magnético se intensifica.\n"
   ]
  },
  {
   "cell_type": "markdown",
   "id": "7dbc8d44",
   "metadata": {},
   "source": [
    "## Equações paramétricas da trajetória\n",
    "\n",
    "Considerando que, em $t=0$, o elétron parte da origem com $\\vec v = (v_0,0,0)$ e $\\vec B = B\\,\\hat{z}$, as coordenadas em função do tempo são:\n",
    "\n",
    "$$\n",
    "x(t) = R \\,\\sin(\\omega_c\\,t), \n",
    "\\quad\n",
    "y(t) = R\\,\\bigl(1 - \\cos(\\omega_c\\,t)\\bigr),\n",
    "\\quad\n",
    "\\text{onde } R = \\frac{m\\,v_0}{|q|\\,B}\n",
    "$$\n",
    "\n",
    "No código, usamos exatamente essas fórmulas para traçar o círculo de raio $R$."
   ]
  },
  {
   "cell_type": "markdown",
   "id": "f07712ef",
   "metadata": {},
   "source": [
    "## Frequência ciclotrônica e período de rotação\n",
    "\n",
    "A velocidade angular de um elétron em um campo magnético uniforme é dada pela **frequência ciclotrônica**:\n",
    "\n",
    "$$\n",
    "\\omega_c = \\frac{|q|\\,B}{m}\n",
    "$$\n",
    "\n",
    "e o **período** de uma volta completa é\n",
    "\n",
    "$$\n",
    "T = \\frac{2\\pi}{\\omega_c} = \\frac{2\\pi\\,m}{|q|\\,B}\n",
    "$$\n",
    "\n",
    "## Sentido de rotação\n",
    "\n",
    "- Para **elétrons** ($q<0$), o giro ocorre no sentido **horário** (se $\\vec B$ aponta “para fora” da página), pois a força $\\vec v\\times\\vec B$ muda de direção.\n",
    "- Para **cargas positivas**, seria sentido **anti-horário**, pela regra da mão direita.\n",
    "\n",
    "## Velocidade constante e trabalho da força magnética\n",
    "\n",
    "- A força magnética é sempre perpendicular à velocidade, logo **não realiza trabalho** e **não altera o módulo** de $\\vec v$: só muda a direção.\n",
    "- Isso explica por que o movimento é **uniforme em módulo** (energia cinética constante) e **circular**."
   ]
  },
  {
   "cell_type": "code",
   "execution_count": null,
   "id": "7f60e05a",
   "metadata": {},
   "outputs": [
    {
     "data": {
      "application/vnd.jupyter.widget-view+json": {
       "model_id": "e4d81bbb21194edf9be33c342a96577a",
       "version_major": 2,
       "version_minor": 0
      },
      "text/plain": [
       "interactive(children=(FloatSlider(value=0.001, description='B (T)', max=0.005, min=0.0001, step=0.0001), Outpu…"
      ]
     },
     "metadata": {},
     "output_type": "display_data"
    },
    {
     "data": {
      "text/plain": [
       "<function __main__.simular_campo_magnetico(B=0.001)>"
      ]
     },
     "execution_count": 2,
     "metadata": {},
     "output_type": "execute_result"
    }
   ],
   "source": [
    "import numpy as np\n",
    "import matplotlib.pyplot as plt\n",
    "from ipywidgets import interact, FloatSlider\n",
    "\n",
    "# Constantes\n",
    "q = -1.6e-19  # carga do elétron (C)\n",
    "m = 9.11e-31  # massa do elétron (kg)\n",
    "v0 = 2e6  # velocidade inicial em x (m/s)\n",
    "t = np.linspace(0, 1e-7, 1000)\n",
    "\n",
    "\n",
    "def simular_campo_magnetico(B=1e-3):\n",
    "    ω = abs(q) * B / m\n",
    "    R = v0 / ω\n",
    "    # círculo paramétrico (iniciando na origem, velocidade inicial na direção +x)\n",
    "    x = R * np.sin(ω * t)\n",
    "    y = R * (1 - np.cos(ω * t))\n",
    "\n",
    "    plt.figure(figsize=(6, 6))\n",
    "    plt.plot(x, y, label=f\"B = {B:.1e} T\")\n",
    "    plt.axis(\"equal\")\n",
    "    plt.xlabel(\"x (m)\")\n",
    "    plt.ylabel(\"y (m)\")\n",
    "    plt.title(\"Trajetória do elétron em campo magnético uniforme\")\n",
    "    plt.grid(True)\n",
    "    plt.legend()\n",
    "    plt.show()\n",
    "\n",
    "\n",
    "interact(\n",
    "    simular_campo_magnetico,\n",
    "    B=FloatSlider(value=1e-3, min=1e-4, max=5e-3, step=1e-4, description=\"B (T)\"),\n",
    ")"
   ]
  },
  {
   "cell_type": "code",
   "execution_count": 3,
   "id": "095e0aad",
   "metadata": {},
   "outputs": [
    {
     "data": {
      "application/vnd.jupyter.widget-view+json": {
       "model_id": "22e2c1e82a1e451494d0e911f8bae71f",
       "version_major": 2,
       "version_minor": 0
      },
      "text/plain": [
       "interactive(children=(FloatSlider(value=0.0, description='E (N/C)', max=20000.0, step=1000.0), FloatSlider(val…"
      ]
     },
     "metadata": {},
     "output_type": "display_data"
    },
    {
     "data": {
      "text/plain": [
       "<function __main__.simular_lorentz(E=0, B=0.001)>"
      ]
     },
     "execution_count": 3,
     "metadata": {},
     "output_type": "execute_result"
    }
   ],
   "source": [
    "import numpy as np\n",
    "import matplotlib.pyplot as plt\n",
    "from ipywidgets import interact, FloatSlider\n",
    "\n",
    "\n",
    "def simular_lorentz(E=0, B=1e-3):\n",
    "    dt = t[1] - t[0]  # passo de tempo\n",
    "    vx, vy = v0, 0.0  # velocidades iniciais (vx, vy)\n",
    "    x, y = 0.0, 0.0  # posições iniciais (x, y)\n",
    "    xs, ys = [], []  # listas para armazenar a trajetória\n",
    "    for _ in t:\n",
    "        # componentes da força de Lorentz (B ao longo de z)\n",
    "        ax = (q / m) * (E + vy * B)\n",
    "        ay = (q / m) * (-vx * B)\n",
    "        vx += ax * dt\n",
    "        vy += ay * dt\n",
    "        x += vx * dt\n",
    "        y += vy * dt\n",
    "        xs.append(x)\n",
    "        ys.append(y)\n",
    "    plt.figure(figsize=(6, 6))\n",
    "    plt.plot(xs, ys, label=f\"E={E:.1e} N/C, B={B:.1e} T\")\n",
    "    plt.axis(\"equal\")\n",
    "    plt.grid(True)\n",
    "    plt.legend()\n",
    "    plt.show()\n",
    "\n",
    "\n",
    "interact(\n",
    "    simular_lorentz,\n",
    "    E=FloatSlider(value=0, min=0, max=2e4, step=1e3, description=\"E (N/C)\"),\n",
    "    B=FloatSlider(value=1e-3, min=1e-4, max=5e-3, step=1e-4, description=\"B (T)\"),\n",
    ")"
   ]
  },
  {
   "cell_type": "markdown",
   "id": "ca2f8219",
   "metadata": {},
   "source": [
    "## Efeito Hall\n",
    "\n",
    "### 1. Contexto e Experimento de Hall\n",
    "\n",
    "Em 1879, Edwin Hall observou que, ao aplicar um **campo magnético** $B$ perpendicular a uma lâmina de metal percorrida por uma **corrente** $I$, surgia uma **diferença de potencial** transversal $V_H$.  \n",
    "\n",
    "### 2. Desvio das cargas\n",
    "\n",
    "As cargas em movimento sofrem a **força de Lorentz**:\n",
    "$$\n",
    "  \\vec F_B = q\\,\\vec v \\times \\vec B.\n",
    "$$\n",
    "Isso faz com que elétrons sejam desviados para uma das faces da lâmina.\n",
    "\n",
    "### 3. Equilíbrio de forças e derivação\n",
    "\n",
    "No equilíbrio, a força elétrica de Hall $qE_H$ cancela a força magnética $qv_dB$:\n",
    "$$\n",
    "qE_H = qv_dB\n",
    "\\quad\\Longrightarrow\\quad\n",
    "E_H = v_d\\,B.\n",
    "$$\n",
    "Como $v_d = I/(nqA)$ e a área de seção $A = w\\,t$, temos\n",
    "$$\n",
    "E_H = \\frac{I}{nq\\,w\\,t}\\,B.\n",
    "$$\n",
    "A tensão Hall $V_H$ é a integral de $E_H$ ao longo da largura $w$:\n",
    "$$\n",
    "V_H = E_H\\,w\n",
    "      = \\frac{I\\,B}{n\\,q\\,t}.\n",
    "$$\n",
    "\n",
    "\n",
    "### 4. Coeficiente de Hall\n",
    "\n",
    "Define-se o **coeficiente de Hall** $R_H$:\n",
    "$$\n",
    "  R_H = \\frac{E_H}{j\\,B} = \\frac{1}{n\\,q},\n",
    "$$\n",
    "permitindo medir $n$ ou até o sinal de $q$.\n",
    "\n",
    "O código a seguir gera um gráfico interativo do **efeito Hall**, mostrando como a tensão de Hall $V_H$ varia linearmente com o campo magnético $B$.  \n"
   ]
  },
  {
   "cell_type": "code",
   "execution_count": 8,
   "id": "72a4aaf8",
   "metadata": {},
   "outputs": [
    {
     "data": {
      "application/vnd.jupyter.widget-view+json": {
       "model_id": "a13206474d344618a59beed93b98244b",
       "version_major": 2,
       "version_minor": 0
      },
      "text/plain": [
       "interactive(children=(FloatSlider(value=0.1, description='Corrente I (A)', max=1.0, min=0.01, step=0.01), Floa…"
      ]
     },
     "metadata": {},
     "output_type": "display_data"
    },
    {
     "data": {
      "text/plain": [
       "<function __main__.plot_vh_vs_B(I=0.1, n=1e+28)>"
      ]
     },
     "execution_count": 8,
     "metadata": {},
     "output_type": "execute_result"
    }
   ],
   "source": [
    "import numpy as np\n",
    "import matplotlib.pyplot as plt\n",
    "from ipywidgets import interact, FloatSlider\n",
    "\n",
    "# Constantes físicas\n",
    "q = -1.6e-19     # carga do elétron (C)\n",
    "t = 1e-3         # largura da lâmina (m), ex: 1 mm\n",
    "\n",
    "def plot_vh_vs_B(I=0.1, n=1e28):\n",
    "    \"\"\"\n",
    "    Plota V_H em função de B para corrente I e densidade de portadores n.\n",
    "    V_H = I * B / (n * |q| * t)\n",
    "    \"\"\"\n",
    "    # Gera uma faixa de valores de campo magnético B\n",
    "    B = np.linspace(0, 1.0, 200)  # de 0 a 1 T\n",
    "    # Calcula a tensão de Hall\n",
    "    V_H = I * B / (n * abs(q) * t)\n",
    "    \n",
    "    # Plotagem\n",
    "    plt.figure(figsize=(6, 4))\n",
    "    plt.plot(B, V_H)\n",
    "    plt.xlabel('Campo Magnético B (T)')\n",
    "    plt.ylabel('Tensão de Hall $V_H$ (V)')\n",
    "    plt.title(f'$V_H$ vs $B$  (I={I:.2f} A, n={n:.1e} m⁻³)')\n",
    "    plt.grid(True)\n",
    "    plt.show()\n",
    "\n",
    "interact(\n",
    "    plot_vh_vs_B,\n",
    "    I=FloatSlider(value=0.1, min=0.01, max=1.0, step=0.01, description='Corrente I (A)'),\n",
    "    n=FloatSlider(value=1e28, min=1e25, max=1e30, step=1e26, description='Densidade n (m⁻³)')\n",
    ")\n"
   ]
  }
 ],
 "metadata": {
  "kernelspec": {
   "display_name": "electric-field",
   "language": "python",
   "name": "python3"
  },
  "language_info": {
   "codemirror_mode": {
    "name": "ipython",
    "version": 3
   },
   "file_extension": ".py",
   "mimetype": "text/x-python",
   "name": "python",
   "nbconvert_exporter": "python",
   "pygments_lexer": "ipython3",
   "version": "3.9.21"
  }
 },
 "nbformat": 4,
 "nbformat_minor": 5
}
